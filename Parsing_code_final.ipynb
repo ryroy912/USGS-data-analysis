{
  "nbformat": 4,
  "nbformat_minor": 0,
  "metadata": {
    "colab": {
      "provenance": []
    },
    "kernelspec": {
      "name": "python3",
      "display_name": "Python 3"
    },
    "language_info": {
      "name": "python"
    }
  },
  "cells": [
    {
      "cell_type": "code",
      "execution_count": null,
      "metadata": {
        "colab": {
          "base_uri": "https://localhost:8080/"
        },
        "id": "iXg-Pc2lVQST",
        "outputId": "cb9c2ae9-8ff7-45fa-a9e6-371b7b3b5709"
      },
      "outputs": [
        {
          "output_type": "stream",
          "name": "stdout",
          "text": [
            "Mounted at /content/drive\n"
          ]
        }
      ],
      "source": [
        "from google.colab import drive\n",
        "drive.mount('/content/drive')"
      ]
    },
    {
      "cell_type": "code",
      "source": [
        "import numpy as np\n",
        "import pandas as pd"
      ],
      "metadata": {
        "id": "vsEqtCrRXYP9"
      },
      "execution_count": null,
      "outputs": []
    },
    {
      "cell_type": "code",
      "source": [
        " df = pd.read_csv (r'drive/My Drive/NAWQA_GLACM&M_AsMn_SIss.200914_abbreviated for email to Chen Zhu.csv')"
      ],
      "metadata": {
        "id": "ubEe_1lHXKVr"
      },
      "execution_count": null,
      "outputs": []
    },
    {
      "cell_type": "code",
      "source": [
        "df.columns"
      ],
      "metadata": {
        "colab": {
          "base_uri": "https://localhost:8080/"
        },
        "id": "rgS3bsLGXQor",
        "outputId": "29c6521c-bf35-40c7-ea88-c2456d24f2e1"
      },
      "execution_count": null,
      "outputs": [
        {
          "output_type": "execute_result",
          "data": {
            "text/plain": [
              "Index(['Number', 'Description', 'Temp', 'pH', 'O(0)', 'C(-4)', 'Ca', 'Mg', 'K',\n",
              "       'Na', 'Alkalinity', 'Cl', 'S(6)', 'Br', 'F', 'Si', 'N(5)', 'N(-3)', 'P',\n",
              "       'Al', 'As', 'Sr', 'Ba', 'Zn', 'Fe', 'Pb', 'Mn', 'U', 'S(-2)', 'Cu',\n",
              "       'Site.ID', 'State', 'Water.use.code', 'Well.depth.in.meters',\n",
              "       'Screen.length.in.meters', 'Bedrock.lithology', 'Lithology', 'Terrane',\n",
              "       'Terrane.description'],\n",
              "      dtype='object')"
            ]
          },
          "metadata": {},
          "execution_count": 4
        }
      ]
    },
    {
      "cell_type": "code",
      "source": [
        "len(df)"
      ],
      "metadata": {
        "id": "r6wDQMBj4_bN",
        "outputId": "d2f87c99-dfda-405c-db23-19131ff8dd83",
        "colab": {
          "base_uri": "https://localhost:8080/"
        }
      },
      "execution_count": null,
      "outputs": [
        {
          "output_type": "execute_result",
          "data": {
            "text/plain": [
              "4486"
            ]
          },
          "metadata": {},
          "execution_count": 7
        }
      ]
    },
    {
      "cell_type": "code",
      "source": [
        "df['Temp'] = df['Temp'].replace(0, 0.01)"
      ],
      "metadata": {
        "id": "pyQ1igcm1kKq"
      },
      "execution_count": null,
      "outputs": []
    },
    {
      "cell_type": "code",
      "source": [
        "import pandas as pd\n",
        "import os\n",
        "\n",
        "# Define a function to generate the solution text\n",
        "def generate_solution_text(solution_row):\n",
        "    solution_text = \"\"\n",
        "    solution_text += f\"Solution {solution_row['Number']}\\n\"\n",
        "    solution_text += \"    Units mg/L\\n\"\n",
        "    solution_text += f\"    temp  {solution_row['Temp'] if pd.notna(solution_row['Temp']) else ''}\\n\"\n",
        "    solution_text += f\"    pH    {solution_row['pH'] if pd.notna(solution_row['pH']) else ''}\\n\"\n",
        "    solution_text += \"    O(0)\\n\"\n",
        "    solution_text += f\"    Ca    {solution_row['Ca'] if pd.notna(solution_row['Ca']) else ''}\\n\"\n",
        "    solution_text += f\"    Mg    {solution_row['Mg'] if pd.notna(solution_row['Mg']) else ''}\\n\"\n",
        "    solution_text += f\"    K     {solution_row['K'] if pd.notna(solution_row['K']) else ''}\\n\"\n",
        "    solution_text += f\"    Na    {solution_row['Na'] if pd.notna(solution_row['Na']) else ''}\\n\"\n",
        "    solution_text += f\"    Alkalinity {solution_row['Alkalinity'] if pd.notna(solution_row['Alkalinity']) else ''}\\n\"\n",
        "    solution_text += f\"    Cl    {solution_row['Cl'] if pd.notna(solution_row['Cl']) else ''}\\n\"\n",
        "    solution_text += f\"    S(6)   {solution_row['S(6)'] if pd.notna(solution_row['S(6)']) else ''}\\n\"\n",
        "    solution_text += f\"    Al    {solution_row['Al'] if pd.notna(solution_row['Al']) else ''}\\n\"\n",
        "    solution_text += f\"    Br   {solution_row['Br'] if pd.notna(solution_row['Br']) else ''}\\n\"\n",
        "    solution_text += f\"    F     {solution_row['F'] if pd.notna(solution_row['F']) else ''}\\n\"\n",
        "    solution_text += f\"    Si  {solution_row['Si'] if pd.notna(solution_row['Si']) else ''}\\n\"\n",
        "    solution_text += f\"    N(5)   {solution_row['N(5)'] if pd.notna(solution_row['N(5)']) else ''}\\n\"\n",
        "    solution_text += f\"    P      {solution_row['P'] if pd.notna(solution_row['P']) else ''}\\n\"\n",
        "    solution_text += f\"    As  {solution_row['As'] if pd.notna(solution_row['As']) else ''}\\n\"\n",
        "    solution_text += f\"    Sr  {solution_row['Sr'] if pd.notna(solution_row['Sr']) else ''}\\n\"\n",
        "    solution_text += f\"    Ba  {solution_row['Ba'] if pd.notna(solution_row['Ba']) else ''}\\n\"\n",
        "    return solution_text\n",
        "\n",
        "\n",
        "# Write solutions to the output file\n",
        "with open(r\"drive/My Drive/fullinput1.txt\", \"w\") as f:\n",
        "    f.write(\"TITLE Massive Geochemical Modeling\\n\")  # Write the title\n",
        "    for index, row in df.iterrows():\n",
        "        solution_text = generate_solution_text(row)\n",
        "        f.write(solution_text)\n",
        "    # Write the specified text at the bottom of the document\n",
        "    f.write(\"\\nSELECTED_OUTPUT\\n-file                glacial_free_trial_1.txt\\n-alkalinity      true\\n-percent_error  true\\n#-totals          Nd Ni Na Ca Al Si C(4) Fe Mg Hfo_s\\n#-molalities      Ca+2 HCO3-\\n#-molalities      Hfo_sONi+ Hfo_wONi+ Hfo_sONd+2 Hfo_wONd+2\\n#-kinetic_reactants    Olivine Monazite-Nd Ni-proxy\\n#-equilibrium_phases Ferrihydrite Chalcedony Allo-1.64 O2(g) Calcite\\n-saturation_indices QUARTZ CHALCEDONY SIO2(a) CALCITE\\n\")\n",
        "    f.write(\"End\\n\")  # End of document\n"
      ],
      "metadata": {
        "id": "gaGcKQ-nhCf9"
      },
      "execution_count": null,
      "outputs": []
    }
  ]
}